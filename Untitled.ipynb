{
 "cells": [
  {
   "cell_type": "code",
   "execution_count": 1,
   "id": "6de301f3-b200-42c6-87a6-b4c68436c66d",
   "metadata": {},
   "outputs": [
    {
     "name": "stdout",
     "output_type": "stream",
     "text": [
      "Roboflow successfully connected!\n"
     ]
    }
   ],
   "source": [
    "from roboflow import Roboflow\n",
    "\n",
    "rf = Roboflow(api_key=\"AFsSj0lfvd5IX8mrdsps\")  # Replace with your actual key\n",
    "print(\"Roboflow successfully connected!\")\n",
    "\n",
    "\n"
   ]
  },
  {
   "cell_type": "code",
   "execution_count": 2,
   "id": "f58d5aff-2f3f-4654-9bc3-028f282c837d",
   "metadata": {},
   "outputs": [
    {
     "name": "stdout",
     "output_type": "stream",
     "text": [
      "loading Roboflow workspace...\n",
      "loading Roboflow project...\n"
     ]
    },
    {
     "ename": "AttributeError",
     "evalue": "'list' object has no attribute 'annotate'",
     "output_type": "error",
     "traceback": [
      "\u001b[1;31m---------------------------------------------------------------------------\u001b[0m",
      "\u001b[1;31mAttributeError\u001b[0m                            Traceback (most recent call last)",
      "Cell \u001b[1;32mIn[2], line 4\u001b[0m\n\u001b[0;32m      1\u001b[0m project \u001b[38;5;241m=\u001b[39m rf\u001b[38;5;241m.\u001b[39mworkspace()\u001b[38;5;241m.\u001b[39mproject(\u001b[38;5;124m\"\u001b[39m\u001b[38;5;124mprosopis-annotation\u001b[39m\u001b[38;5;124m\"\u001b[39m)\n\u001b[0;32m      3\u001b[0m \u001b[38;5;66;03m# Start auto-labeling using YOLO or Grounding DINO model\u001b[39;00m\n\u001b[1;32m----> 4\u001b[0m \u001b[43mproject\u001b[49m\u001b[38;5;241;43m.\u001b[39;49m\u001b[43mversions\u001b[49m\u001b[43m(\u001b[49m\u001b[43m)\u001b[49m\u001b[38;5;241;43m.\u001b[39;49m\u001b[43mannotate\u001b[49m(\n\u001b[0;32m      5\u001b[0m     model\u001b[38;5;241m=\u001b[39m\u001b[38;5;124m\"\u001b[39m\u001b[38;5;124myolo\u001b[39m\u001b[38;5;124m\"\u001b[39m,\n\u001b[0;32m      6\u001b[0m     confidence\u001b[38;5;241m=\u001b[39m\u001b[38;5;241m0.3\u001b[39m,  \u001b[38;5;66;03m# Minimum confidence threshold\u001b[39;00m\n\u001b[0;32m      7\u001b[0m     overlap\u001b[38;5;241m=\u001b[39m\u001b[38;5;241m0.5\u001b[39m      \u001b[38;5;66;03m# Overlapping bounding box threshold\u001b[39;00m\n\u001b[0;32m      8\u001b[0m )\n\u001b[0;32m     10\u001b[0m \u001b[38;5;28mprint\u001b[39m(\u001b[38;5;124m\"\u001b[39m\u001b[38;5;124m✅ Auto-annotation started. This may take a few minutes...\u001b[39m\u001b[38;5;124m\"\u001b[39m)\n",
      "\u001b[1;31mAttributeError\u001b[0m: 'list' object has no attribute 'annotate'"
     ]
    }
   ],
   "source": [
    "\n",
    "project = rf.workspace().project(\"prosopis-annotation\")\n",
    "\n",
    "# Start auto-labeling using YOLO or Grounding DINO model\n",
    "project.versions().annotate(\n",
    "    model=\"yolo\",\n",
    "    confidence=0.3,  # Minimum confidence threshold\n",
    "    overlap=0.5      # Overlapping bounding box threshold\n",
    ")\n",
    "\n",
    "print(\"✅ Auto-annotation started. This may take a few minutes...\")\n"
   ]
  },
  {
   "cell_type": "code",
   "execution_count": null,
   "id": "67035bb8-d3db-470d-8a92-d425b4ac7c40",
   "metadata": {},
   "outputs": [],
   "source": [
    "\n"
   ]
  },
  {
   "cell_type": "code",
   "execution_count": null,
   "id": "2807b795-bb48-4370-81de-fb2109bfbcab",
   "metadata": {},
   "outputs": [],
   "source": []
  }
 ],
 "metadata": {
  "kernelspec": {
   "display_name": "Python 3 (ipykernel)",
   "language": "python",
   "name": "python3"
  },
  "language_info": {
   "codemirror_mode": {
    "name": "ipython",
    "version": 3
   },
   "file_extension": ".py",
   "mimetype": "text/x-python",
   "name": "python",
   "nbconvert_exporter": "python",
   "pygments_lexer": "ipython3",
   "version": "3.8.20"
  }
 },
 "nbformat": 4,
 "nbformat_minor": 5
}
