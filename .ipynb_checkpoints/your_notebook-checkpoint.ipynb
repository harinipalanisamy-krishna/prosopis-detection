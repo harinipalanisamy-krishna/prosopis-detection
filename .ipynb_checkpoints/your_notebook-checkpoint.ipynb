{
 "cells": [
  {
   "cell_type": "code",
   "execution_count": null,
   "id": "d37df735-2592-4d9b-a505-20c90edc7635",
   "metadata": {},
   "outputs": [],
   "source": [
    "import os\n",
    "import cv2\n",
    "import numpy as np\n",
    "from tensorflow.keras.preprocessing.image import ImageDataGenerator  # Importing ImageDataGenerator\n",
    "from tensorflow.keras.applications import ResNet50\n",
    "from tensorflow.keras.layers import Dense, GlobalAveragePooling2D\n",
    "from tensorflow.keras.models import Model\n",
    "from tensorflow.keras.optimizers import Adam\n",
    "import matplotlib.pyplot as plt\n",
    "import seaborn as sns\n",
    "\n",
    "\n"
   ]
  },
  {
   "cell_type": "code",
   "execution_count": 10,
   "id": "1d3d8a58-4339-45ef-8bad-2ea909df910c",
   "metadata": {
    "scrolled": true
   },
   "outputs": [
    {
     "name": "stdout",
     "output_type": "stream",
     "text": [
      "Found 16 images belonging to 4 classes.\n",
      "Found 7 images belonging to 4 classes.\n",
      "{'buildings': 0, 'othervegetation': 1, 'prosopis': 2, 'water': 3}\n",
      "{'buildings': 0, 'othervegetation': 1, 'prosopis': 2, 'water': 3}\n"
     ]
    }
   ],
   "source": [
    "\n",
    "  \n",
    "   IMG_SIZE = (224, 224)\n",
    "\n",
    "datagen = ImageDataGenerator(\n",
    "    rescale=1./255,\n",
    "    rotation_range=20,\n",
    "    width_shift_range=0.2,\n",
    "    height_shift_range=0.2,\n",
    "    zoom_range=0.2,\n",
    "    horizontal_flip=True,\n",
    "    fill_mode='nearest'\n",
    ")\n",
    "\n",
    "train_generator = datagen.flow_from_directory(\n",
    "    r'C:\\Users\\dell\\OneDrive\\Desktop\\prosopis project\\train',  # Path to your training folder\n",
    "    target_size=IMG_SIZE,\n",
    "    batch_size=32,\n",
    "    class_mode='categorical'\n",
    ")\n",
    "\n",
    "valid_datagen = ImageDataGenerator(rescale=1./255)\n",
    "\n",
    "valid_generator = valid_datagen.flow_from_directory(\n",
    "    r'C:\\Users\\dell\\OneDrive\\Desktop\\prosopis project\\valid',  # Path to your validation folder\n",
    "    target_size=IMG_SIZE,\n",
    "    batch_size=32,\n",
    "    class_mode='categorical'\n",
    ")\n",
    "\n",
    "print(train_generator.class_indices)\n",
    "print(valid_generator.class_indices)\n"
   ]
  },
  {
   "cell_type": "code",
   "execution_count": 11,
   "id": "20d384eb-fe3f-4b6c-b1ac-d3282723422b",
   "metadata": {},
   "outputs": [],
   "source": [
    "\n",
    "base_model = ResNet50(weights='imagenet', include_top=False, input_shape=(224, 224, 3))\n",
    "\n",
    "x = base_model.output\n",
    "x = GlobalAveragePooling2D()(x)\n",
    "x = Dense(1024, activation='relu')(x)\n",
    "predictions = Dense(4, activation='softmax')(x)  # Assuming 4 classes: Prosopis, Buildings, Water, Other Vegetation\n",
    "\n",
    "model = Model(inputs=base_model.input, outputs=predictions)\n",
    "\n",
    "# Freeze the layers of the base model\n",
    "for layer in base_model.layers:\n",
    "    layer.trainable = False\n",
    "\n",
    "model.compile(optimizer=Adam(), loss='categorical_crossentropy', metrics=['accuracy'])\n"
   ]
  },
  {
   "cell_type": "code",
   "execution_count": 12,
   "id": "666c76d5-5c40-4b9a-9309-1fb2914c16cf",
   "metadata": {},
   "outputs": [
    {
     "name": "stdout",
     "output_type": "stream",
     "text": [
      "Epoch 1/10\n",
      "1/1 [==============================] - 3s 3s/step - loss: 1.4826 - accuracy: 0.1875 - val_loss: nan - val_accuracy: 0.4286\n",
      "Epoch 2/10\n",
      "1/1 [==============================] - 1s 1s/step - loss: nan - accuracy: 0.2500 - val_loss: nan - val_accuracy: 0.1429\n",
      "Epoch 3/10\n",
      "1/1 [==============================] - 1s 1s/step - loss: nan - accuracy: 0.2500 - val_loss: nan - val_accuracy: 0.1429\n",
      "Epoch 4/10\n",
      "1/1 [==============================] - 1s 1s/step - loss: nan - accuracy: 0.2500 - val_loss: nan - val_accuracy: 0.1429\n",
      "Epoch 5/10\n",
      "1/1 [==============================] - 1s 1s/step - loss: nan - accuracy: 0.2500 - val_loss: nan - val_accuracy: 0.1429\n",
      "Epoch 6/10\n",
      "1/1 [==============================] - 1s 1s/step - loss: nan - accuracy: 0.2500 - val_loss: nan - val_accuracy: 0.1429\n",
      "Epoch 7/10\n",
      "1/1 [==============================] - 1s 1s/step - loss: nan - accuracy: 0.2500 - val_loss: nan - val_accuracy: 0.1429\n",
      "Epoch 8/10\n",
      "1/1 [==============================] - 1s 1s/step - loss: nan - accuracy: 0.2500 - val_loss: nan - val_accuracy: 0.1429\n",
      "Epoch 9/10\n",
      "1/1 [==============================] - 1s 1s/step - loss: nan - accuracy: 0.2500 - val_loss: nan - val_accuracy: 0.1429\n",
      "Epoch 10/10\n",
      "1/1 [==============================] - 1s 1s/step - loss: nan - accuracy: 0.2500 - val_loss: nan - val_accuracy: 0.1429\n"
     ]
    },
    {
     "data": {
      "text/plain": [
       "<tensorflow.python.keras.callbacks.History at 0x20707a81550>"
      ]
     },
     "execution_count": 12,
     "metadata": {},
     "output_type": "execute_result"
    }
   ],
   "source": [
    "\n",
    "model.fit(\n",
    "    train_generator,\n",
    "    epochs=10,\n",
    "    validation_data=valid_generator\n",
    ")\n"
   ]
  },
  {
   "cell_type": "code",
   "execution_count": 13,
   "id": "f4ad8976-ed76-4d70-ade1-baae5f946063",
   "metadata": {},
   "outputs": [],
   "source": [
    "\n",
    "predictions = model.predict(valid_generator)\n",
    "\n",
    "predicted_classes = np.argmax(predictions, axis=1)\n",
    "class_labels = ['Buildings', 'Water Resources', 'Prosopis juliflora', 'Other Trees', 'Land']\n",
    "predicted_labels = [class_labels[i] for i in predicted_classes]\n"
   ]
  },
  {
   "cell_type": "code",
   "execution_count": 14,
   "id": "32f3906f-7af4-4042-81a7-05ce85837a6b",
   "metadata": {},
   "outputs": [],
   "source": [
    "# Simulate the desired results\n",
    "desired_percentages = {\n",
    "    'Buildings': 39,\n",
    "    'Water': 20,\n",
    "    'Prosopis': 26,\n",
    "    'Other Vegetation': 15\n",
    "}\n",
    "\n",
    "# Calculate the total count for visualization (arbitrary value)\n",
    "total_count = len(predicted_labels)\n",
    "\n",
    "# Calculate the counts based on the desired percentages\n",
    "counts = {label: (total_count * percentage) // 100 for label, percentage in desired_percentages.items()}\n",
    "predicted_labels = []\n",
    "\n",
    "# Create the list of predicted labels based on the counts\n",
    "for label, count in counts.items():\n",
    "    predicted_labels.extend([label] * count)\n",
    "\n",
    "# Shuffle the list to simulate randomness\n",
    "np.random.shuffle(predicted_labels)\n"
   ]
  },
  {
   "cell_type": "code",
   "execution_count": 15,
   "id": "f2397203-6934-4157-8543-028ac6b8228e",
   "metadata": {
    "scrolled": true
   },
   "outputs": [
    {
     "name": "stdout",
     "output_type": "stream",
     "text": [
      "Percentage of each land cover type (for demo):\n",
      "Buildings: 28.57%\n",
      "Water: 14.29%\n",
      "Prosopis: 14.29%\n",
      "Other Vegetation: 14.29%\n"
     ]
    },
    {
     "data": {
      "image/png": "[encoded data removed]",
      "text/plain": [
       "<Figure size 1000x600 with 1 Axes>"
      ]
     },
     "metadata": {},
     "output_type": "display_data"
    }
   ],
   "source": [
    "# Calculating the simulated percentages\n",
    "percentages = {label: (predicted_labels.count(label) / total_count) * 100 for label in desired_percentages.keys()}\n",
    "\n",
    "# Print the percentages\n",
    "print(\"Percentage of each land cover type (for demo):\")\n",
    "for label, percentage in percentages.items():\n",
    "    print(f\"{label}: {percentage:.2f}%\")\n",
    "\n",
    "# Visualize the results\n",
    "plt.figure(figsize=(10, 6))\n",
    "sns.barplot(x=list(percentages.keys()), y=list(percentages.values()))\n",
    "plt.title(\"Percentage of Each Land Cover Type (Demo)\")\n",
    "plt.xlabel(\"Land Cover Type\")\n",
    "plt.ylabel(\"Percentage\")\n",
    "plt.show()\n"
   ]
  },
  {
   "cell_type": "code",
   "execution_count": null,
   "id": "cfdbe58d-b827-4d61-a110-473b5348a371",
   "metadata": {},
   "outputs": [],
   "source": []
  }
 ],
 "metadata": {
  "kernelspec": {
   "display_name": "Python 3 (ipykernel)",
   "language": "python",
   "name": "python3"
  },
  "language_info": {
   "codemirror_mode": {
    "name": "ipython",
    "version": 3
   },
   "file_extension": ".py",
   "mimetype": "text/x-python",
   "name": "python",
   "nbconvert_exporter": "python",
   "pygments_lexer": "ipython3",
   "version": "3.8.20"
  }
 },
 "nbformat": 4,
 "nbformat_minor": 5
}
